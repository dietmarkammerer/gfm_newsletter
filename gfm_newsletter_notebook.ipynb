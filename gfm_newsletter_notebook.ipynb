{
 "cells": [
  {
   "cell_type": "markdown",
   "metadata": {
    "slideshow": {
     "slide_type": "slide"
    },
    "tags": []
   },
   "source": [
    "# Der GfM-Newsletter als Forschungsdatum\n",
    "## Präsentation zum Vortrag auf der Jahrestagung 2022 der Gesellschaft für Medienwissenschaft (GfM): «Arbeit»\n",
    "Martin-Luther-Universität Halle-Wittenberg, 28. September – 01. Oktober 2022  \n",
    "Dr. Dietmar Kammerer, Philipps-Universität Marburg"
   ]
  },
  {
   "cell_type": "markdown",
   "metadata": {
    "slideshow": {
     "slide_type": "skip"
    },
    "tags": []
   },
   "source": [
    "# ABSTRACT\n",
    "\n",
    "Der GfM-Newsletter ist ein Forschungsdatum. Das Archiv der Newsletter 2015-2021 enthält rund 1000 Stellenanzeigen. Diese werden nach Datum, Standort, Stellenbeschreibung, Besoldungsgruppe ausgewertet. Auf diese Weise wird die Entwicklung von Stellen in der Medienwissenschaft (im deutschsprachigen Raum) untersuchbar.  \n",
    "Die Studie ist dabei explorativ und dient der Veranschaulichung der aktuellen Möglichkeiten, aber auch der Grenzen von datenbasierter Forschung im Fach. Alle verwendeten Daten, Tools und Visualisierungen werden über GitHub bereit gestellt. Der Vortrag lädt ein zur Diskussion, welche Einrichtungen (Infrastrukturen, Praktiken) helfen könnten, bestehende Defizite und Desiderate datenbasierter Forschung abzubauen.\n",
    "\n",
    "Dieses Notebook nimmt Newsletter der Gesellschaft für Medienwissenschaft (GfM) und …\n",
    "- erstellt ein Archiv der Mails, umbenannt im Format `YYYY-MM-DD.eml`\n",
    "- sichert PDF-Anhänge (`YYYY-MM-DD_Anhang.pdf`)\n",
    "- erstellt Tabelle \"meldungen.csv\" mit sämtlichen Newsletter-Einträgen\n",
    "- erstellt Tabelle \"stellenanzeigen.csv\" mit den Volltexten der Stellenanzeigens\n",
    "- bietet Analysetools an"
   ]
  },
  {
   "cell_type": "markdown",
   "metadata": {
    "slideshow": {
     "slide_type": "notes"
    },
    "tags": []
   },
   "source": [
    "## Vorbemerkungen\n",
    "Mein Vortrag heute verfolgt zwei Ziele: **Erstens** will ich vorführen, was es heißt, den Newsletter der GfM als schwach strukturiertes Forschungsdatum zu begreifen, das heißt: Ich will die Frage stellen, wie leicht – oder wie mühsam – es ist, ihn mit einfach verfügbaren Tools und Techniken unter bestimmten Gesichspunkten automatisiert auszuwerten und dabei Forschunsgdaten zu produzieren. \n",
    "Es geht mir also weniger um das Ergebnis meiner Auswertung - obwohl ich eine Reihe von Ergebnissen in Form von Diagrammen mitgebracht habe - als um die Methode, den Weg dorthin. Genauer: Um die Hürden, Hindernisse und Stolperfallen auf diesem Weg, aber auch um die Hilfsmittel und Techniken, die einem zur Verfügung stehen.\n",
    "»Arbeit«, das Thema dieser Jahrestagung, taucht also zweimal, in doppelter gestalt auf: Einmal in Form der **Stellenanzeigen**, die über den Newsletter in Community der Mitglieder der Gesellschaft für Medienwissenschaftler verbreitet werden. Diese Anzeigen versprechen Arbeit in Form eines vertraglich gesicherten Anstellungsverhältnisses an einer wissenschaftlichen Institution – und wir wissen, wie ungesichert, prekär und vorübergehend solche vertraglich gesicherten Verhältnisse sind. Zum anderen geht es um wissenschaftliches Arbeiten, um wissenschaftliche Forschungspraxis, in diesem Fall: um Forschungsdatenpraxis.\n",
    "Welche Tools stehen dafür zur Verfügung? Welche Möglichekten haben wir im Umgang mit Forschungsdaten, welche Schwierigkeiten bestehen dabei? Insofern ist dieser Vortrag explorativ zu verstehen: Er erkundet ein für unser Fach immer noch relativ neues methodisches Terrain, an einem konkreten Beispiel.\n",
    "\n",
    "Damit ist auch schon das **zweite Ziel** benannt: Alle Daten, alle Techniken, alle Ergebnisse des Vortrages können eingesehen und nachgenutzt werden - das sind die **FAIR-Prinzipien des Forschungsdatenmanagements**. Auf diese Weise können die Ergebnisse meines kleinen Forschungsprojekts nicht nur nachvollzogen, sondern auch repliziert oder reproduziert werden. Ich werde später vorstellen, welche Ressourcen und Dokumente das genau umfasst und wo diese zu finden sind.\n",
    "\n",
    "Eine letzte Vorbemerkung, bevor wir zu den Inhalten kommen: Ich präsentiere hier die Ergebnisse eines **kleinen Forschungsprojekts**. Es ist ein Nebenbeiprojekt, eine Fingerübung, kein Schwerpunkt meiner aktuellen Tätigkeit oder Stellenbeschreibung. Mir ist bewußt, dass das dahinter stehende Thema  - die Entwicklung der Stellensituation in Deutschland in der Medienwissenschaft - selbstverständlich noch viel mehr Aufmerksamkeit und Genauigkeit und detaillierte Analysen verdient hätte, was ich aber - im Rahmen meines durch Drittmittel nur temporär gesichert/ungesicherten Arbeitsverhältnisses - nicht leisten konnte. Was ich heute vorstelle, ist in den Abendstunden oder an Wochenenden entstanden.\n",
    "Andererseits ist ein Ziel des Projekts ja gerade darin, Daten und Ressourcen bereit zu stellen, damit Dritte diese nachnutzen können, um weitere und eigene Fragen zu stellen, eigene Analysen durchzuführen und zu eigenen Ergebnissen zu kommen.\n"
   ]
  },
  {
   "cell_type": "markdown",
   "metadata": {
    "slideshow": {
     "slide_type": "slide"
    },
    "tags": []
   },
   "source": [
    "## Datengrundlage\n",
    "- **GfM-Newsletter** im Zeitraum **vom 30.01.2015 bis 29.04.2022**\n",
    "- **318 Newsletter**"
   ]
  },
  {
   "cell_type": "markdown",
   "metadata": {
    "slideshow": {
     "slide_type": "slide"
    },
    "tags": []
   },
   "source": [
    "## Strukturierte Daten im Newsletter\n",
    "![Newsletter](screenshot_newsletter.png)"
   ]
  },
  {
   "cell_type": "markdown",
   "metadata": {
    "slideshow": {
     "slide_type": "slide"
    }
   },
   "source": [
    "# VORBEREITUNG"
   ]
  },
  {
   "cell_type": "markdown",
   "metadata": {
    "slideshow": {
     "slide_type": "slide"
    },
    "tags": []
   },
   "source": [
    "## Importe"
   ]
  },
  {
   "cell_type": "code",
   "execution_count": null,
   "metadata": {
    "slideshow": {
     "slide_type": "fragment"
    },
    "tags": []
   },
   "outputs": [],
   "source": [
    "# Diese Zelle importiert die notwendigen Module\n",
    "import email\n",
    "from email import policy\n",
    "from email.parser import BytesParser\n",
    "from io import BytesIO\n",
    "import os\n",
    "import pandas\n",
    "import matplotlib.pyplot as plt\n",
    "from pathlib import Path\n",
    "from pdfminer.high_level import extract_text\n",
    "import re\n",
    "import shutil"
   ]
  },
  {
   "cell_type": "markdown",
   "metadata": {},
   "source": [
    "Tabellen im Notebook werden auf ganzer Seite und mit Scrollbalken angezeigt"
   ]
  },
  {
   "cell_type": "code",
   "execution_count": null,
   "metadata": {
    "slideshow": {
     "slide_type": "slide"
    },
    "tags": []
   },
   "outputs": [],
   "source": [
    "# Tabellen im Notebook werden auf ganzer Seite und mit Scrollbalken angezeigt\n",
    "pandas.set_option('display.max_row', None)\n",
    "pandas.set_option('display.max_colwidth', None)"
   ]
  },
  {
   "cell_type": "markdown",
   "metadata": {
    "slideshow": {
     "slide_type": "slide"
    }
   },
   "source": [
    "## Definition der Klassen ‚Mail‘ und ‚Anhang‘"
   ]
  },
  {
   "cell_type": "code",
   "execution_count": null,
   "metadata": {
    "slideshow": {
     "slide_type": "skip"
    },
    "tags": []
   },
   "outputs": [],
   "source": [
    "class Mail:\n",
    "    \n",
    "    '''definiert Klasse Mail'''\n",
    "    \n",
    "    def __init__(self, mailfile):\n",
    "        \n",
    "        self.path = Path(mailfile)\n",
    "        self.msg = email.message_from_binary_file(open(mailfile, 'rb'), policy=policy.default)\n",
    "        self.date = self.msg['Date'].datetime.isoformat().split('T')[0]\n",
    "        \n",
    "        self.volltext = self.get_volltext()\n",
    "        self.meldungen = self.get_meldungen()\n",
    "        \n",
    "    def __repr__(self):\n",
    "        return f'{self.volltext}'\n",
    "    \n",
    "    def get_volltext(self):\n",
    "        return self.msg.get_body(preferencelist=('plain')).get_content()        \n",
    "\n",
    "    def get_meldungen(self):\n",
    "        records = [{'Datum': self.date, 'Meldung': re.sub('\\(\\d+\\)','', line).strip()} \\\n",
    "                   for line in re.findall('\\(\\d+\\)\\s*\\n?.*', self.volltext)]\n",
    "        df = pandas.DataFrame.from_dict(records)\n",
    "        df.Datum = pandas.to_datetime(df.Datum)\n",
    "        return df\n",
    "    "
   ]
  },
  {
   "cell_type": "code",
   "execution_count": null,
   "metadata": {
    "slideshow": {
     "slide_type": "skip"
    },
    "tags": []
   },
   "outputs": [],
   "source": [
    "class Anhang:\n",
    "\n",
    "    '''definiert Klasse Anhang'''\n",
    "\n",
    "    def __init__(self, mailfile):\n",
    "        \n",
    "        self.path = Path(mailfile)\n",
    "        self.msg = email.message_from_binary_file(open(mailfile, 'rb'), policy=policy.default)\n",
    "        self.date = self.msg['Date'].datetime.isoformat().split('T')[0]\n",
    "        self.volltext = self.read_attachment()\n",
    "        self.anzeigen = self.get_stellenanzeigen()\n",
    "    \n",
    "    def __repr__(self):\n",
    "        return self.volltext[:150]\n",
    "    \n",
    "    def read_attachment(self):\n",
    "        for file in self.msg.iter_attachments():\n",
    "            if \"Newsletter\" in file.get_filename():\n",
    "                try:\n",
    "                    volltext = extract_text(BytesIO(file.get_payload(decode=True))).strip()\n",
    "                    return volltext\n",
    "\n",
    "                except:\n",
    "                    print(\"Kann Anhang nicht auslesen.\")\n",
    "                    return None\n",
    "\n",
    "    def get_stellenanzeigen(self):\n",
    "        anzeigen = re.split('\\(\\d+\\)\\s+Stellenauss?chreibung:?\\s+', self.volltext)\n",
    "\n",
    "        if len(anzeigen) > 1:\n",
    "            records = [{'Datum': self.date, 'Stellenanzeige': anzeige.strip()} for anzeige in anzeigen[1:]]\n",
    "            df = pandas.DataFrame.from_dict(records)\n",
    "            df.Datum = pandas.to_datetime(df.Datum)\n",
    "            return df\n",
    "\n",
    "        else:\n",
    "            return None\n",
    "        \n",
    "    def save_as_pdf(self, outfolder='.'):    # save attachment as PDF\n",
    "        for file in self.msg.iter_attachments():\n",
    "            if \"Newsletter\" in file.get_filename():\n",
    "                fo = Path(outfolder, f'{self.date}_anhang.pdf')\n",
    "                try:\n",
    "                    fo.write_bytes(file.get_payload(decode=True))\n",
    "                except:\n",
    "                    print(\"Kann Anhang nicht speichern\")\n",
    "                    return None"
   ]
  },
  {
   "cell_type": "markdown",
   "metadata": {
    "slideshow": {
     "slide_type": "slide"
    },
    "tags": []
   },
   "source": [
    "# I. DATENARCHIV ERSTELLEN"
   ]
  },
  {
   "cell_type": "markdown",
   "metadata": {},
   "source": [
    "## Umgebungsvariablen festlegen"
   ]
  },
  {
   "cell_type": "code",
   "execution_count": null,
   "metadata": {
    "slideshow": {
     "slide_type": "slide"
    },
    "tags": []
   },
   "outputs": [],
   "source": [
    "# In dieser Zelle werden u.a. die Variablen für In- und Output festgelegt\n",
    "infolder = 'newsletter'\n",
    "outfolder = 'out'    \n",
    "\n",
    "infolder = Path(infolder)   # Materialordner\n",
    "outfolder = Path(outfolder) # hier wird der Output gespeichert\n",
    "Path.mkdir(outfolder, exist_ok = True) # bestehender Ordner wird nicht überschrieben\n",
    "\n",
    "count = len(os.listdir(infolder)) # Anzahl Dateien in Archiv\n",
    "\n",
    "meldungen = pandas.DataFrame() # legt leeren Dataframe an\n",
    "stellenanzeigen_volltext = pandas.DataFrame() # legt leeren Dataframe an"
   ]
  },
  {
   "cell_type": "markdown",
   "metadata": {
    "slideshow": {
     "slide_type": "slide"
    },
    "tags": []
   },
   "source": [
    "## DataFrame \"Meldungen\" wird erstellt"
   ]
  },
  {
   "cell_type": "code",
   "execution_count": null,
   "metadata": {
    "scrolled": true,
    "slideshow": {
     "slide_type": "skip"
    },
    "tags": []
   },
   "outputs": [],
   "source": [
    "# Diese Zelle extrahiert alle Meldungen aus den Mails\n",
    "# Ergebnis wird unter meldungen.csv gespeichert\n",
    "\n",
    "for file in infolder.glob('*.eml'):\n",
    "    mail = Mail(file)\n",
    "    meldungen = pandas.concat([meldungen, mail.meldungen], ignore_index=True)\n",
    "\n",
    "meldungen = meldungen.sort_values(by='Datum', ignore_index=True) # sortiert Meldungen nach Datum\n",
    "\n",
    "fo = Path(outfolder, 'meldungen.csv')\n",
    "meldungen.to_csv(fo, index=False, encoding='utf8')"
   ]
  },
  {
   "cell_type": "markdown",
   "metadata": {
    "slideshow": {
     "slide_type": "skip"
    },
    "tags": []
   },
   "source": [
    "Diese Zelle sichert alle Mails als `YYYY-MM-DD.eml` und alle Anhänge als `YYYY-MM-DD_anhang.pdf`.  \n",
    "Die Volltexte der Stellenanzeigen wird als `stellenanzeigen_volltext.csv` gesichert."
   ]
  },
  {
   "cell_type": "code",
   "execution_count": null,
   "metadata": {
    "slideshow": {
     "slide_type": "skip"
    },
    "tags": []
   },
   "outputs": [],
   "source": [
    "# Diese Zelle sichert alle Mails als `YYYY-MM-DD.eml`\n",
    "# und alle Anhänge als `YYYY-MM-DD_anhang.pdf`\n",
    "# Die Volltexte der Stellenanzeigen wird als 'stellenanzeigen_volltext.csv' gesichert.\n",
    "\n",
    "for n, file in enumerate(infolder.glob('*.eml')):\n",
    "    \n",
    "    mail = Mail(file)\n",
    "    anhang = Anhang(file)\n",
    "    \n",
    "    print(f'Verarbeite Newsletter vom {mail.date}. Mail {n+1} von {count-1}')\n",
    "    \n",
    "    fo = Path(outfolder, f'{mail.date}.eml')\n",
    "    shutil.copy(file, fo) # sichere Mail als Kopie, umbenannt in YYYY-MM-DD.eml\n",
    "    \n",
    "    anhang.save_to_pdf(outfolder)\n",
    "    \n",
    "    meldungen = pandas.concat([meldungen, mail.meldungen], ignore_index=True)\n",
    "    \n",
    "    stellenanzeigen_volltext = pandas.concat([stellenanzeigen_volltext, anhang.anzeigen], ignore_index=True)\n",
    "    \n",
    "# Volltexte aller Stelenanzeigen sichern\n",
    "fo = Path(outfolder, 'stellenanzeigen_volltext.csv')\n",
    "stellenanzeigen_volltext.to_csv(fo, index=False, encoding='utf8')\n"
   ]
  },
  {
   "cell_type": "markdown",
   "metadata": {
    "slideshow": {
     "slide_type": "slide"
    }
   },
   "source": [
    "# II. DATEN AUFBEREITEN"
   ]
  },
  {
   "cell_type": "code",
   "execution_count": null,
   "metadata": {
    "slideshow": {
     "slide_type": "subslide"
    }
   },
   "outputs": [],
   "source": [
    "# Falls das Archiv bereits besteht, lädt die Zelle die Tabelle 'meldungen.csv' in ein DataFrame\n",
    "meldungen = pandas.read_csv('out/meldungen.csv')\n",
    "meldungen.Datum = pandas.to_datetime(meldungen.Datum)"
   ]
  },
  {
   "cell_type": "markdown",
   "metadata": {
    "slideshow": {
     "slide_type": "slide"
    }
   },
   "source": [
    "## Stellenanzeigen filtern\n",
    "Filter für Stellenanzeigen in Meldungen  \n",
    "Suchmaske (Regex): `'Stellenaus.*?:\\s`"
   ]
  },
  {
   "cell_type": "code",
   "execution_count": null,
   "metadata": {
    "scrolled": true,
    "slideshow": {
     "slide_type": "subslide"
    },
    "tags": []
   },
   "outputs": [],
   "source": [
    "# filtert Stellenanzeigen aus allen Meldungen \n",
    "job_pattern = 'Stellenaus.*?:\\s'\n",
    "stellenanzeigen = meldungen.loc[meldungen.Meldung.str.contains(job_pattern), :]\n",
    "stellenanzeigen = stellenanzeigen.sort_values(by='Datum', ignore_index=True)\n",
    "stellenanzeigen.Meldung.replace(to_replace=job_pattern, value='', regex=True, inplace=True)"
   ]
  },
  {
   "cell_type": "code",
   "execution_count": null,
   "metadata": {
    "scrolled": true,
    "slideshow": {
     "slide_type": "subslide"
    },
    "tags": []
   },
   "outputs": [],
   "source": [
    "stellenanzeigen"
   ]
  },
  {
   "cell_type": "markdown",
   "metadata": {
    "slideshow": {
     "slide_type": "subslide"
    },
    "tags": []
   },
   "source": [
    "### Stipendien / Scholarships / Stellen für Hilfskräfte löschen"
   ]
  },
  {
   "cell_type": "code",
   "execution_count": null,
   "metadata": {
    "slideshow": {
     "slide_type": "subslide"
    },
    "tags": []
   },
   "outputs": [],
   "source": [
    "# löscht Stipendien / Scholarships / Stellen für Hilfskräfte löschen\n",
    "stellenanzeigen.drop(stellenanzeigen.index[stellenanzeigen.Meldung.str.contains('[S|s]tip|Scholar|Hilfs')], inplace=True)\n",
    "stellenanzeigen.reset_index(drop=True, inplace=True)"
   ]
  },
  {
   "cell_type": "markdown",
   "metadata": {
    "slideshow": {
     "slide_type": "slide"
    },
    "tags": []
   },
   "source": [
    "# III: AUSWERTUNG: STELLENANZEIGEN"
   ]
  },
  {
   "cell_type": "markdown",
   "metadata": {
    "slideshow": {
     "slide_type": "subslide"
    },
    "tags": []
   },
   "source": [
    "### Wie viele Stellenanzeigen sind im vorliegenden Zeitraum erschienen?"
   ]
  },
  {
   "cell_type": "code",
   "execution_count": null,
   "metadata": {
    "slideshow": {
     "slide_type": "fragment"
    },
    "tags": []
   },
   "outputs": [],
   "source": [
    "# Ergebnis: alle Stellenanzeigen\n",
    "start = stellenanzeigen.iloc[0].Datum\n",
    "end = stellenanzeigen.iloc[-10].Datum\n",
    "print(f'\\nIm Zeitraum von {start._date_repr} bis {end._date_repr} wurden {len(stellenanzeigen)} Stellenanzeigen gefunden.\\n')"
   ]
  },
  {
   "cell_type": "markdown",
   "metadata": {
    "slideshow": {
     "slide_type": "subslide"
    },
    "tags": []
   },
   "source": [
    "### In welchem Newsletter sind die meisten Stellenanzeigen erschienen?"
   ]
  },
  {
   "cell_type": "code",
   "execution_count": null,
   "metadata": {
    "slideshow": {
     "slide_type": "fragment"
    },
    "tags": []
   },
   "outputs": [],
   "source": [
    "# In welchem Newsletter sind die meisten Stellenanzeigen erschienen?\n",
    "ads_per_date = stellenanzeigen.Datum.value_counts()\n",
    "ads_per_date.sort_index(inplace=True)\n",
    "ads_per_date.index = pandas.to_datetime(ads_per_date.index)\n",
    "\n",
    "print(f'\\nIm Newsletter vom {str(ads_per_date.idxmax())[:10]} sind {ads_per_date.max()} Stellenanzeigen erschienen\\n')"
   ]
  },
  {
   "cell_type": "markdown",
   "metadata": {
    "slideshow": {
     "slide_type": "subslide"
    },
    "tags": []
   },
   "source": [
    "### Welche Stellenanzeigen sind an diesem Tag erschienen?"
   ]
  },
  {
   "cell_type": "code",
   "execution_count": null,
   "metadata": {
    "slideshow": {
     "slide_type": "fragment"
    },
    "tags": []
   },
   "outputs": [],
   "source": [
    "stellenanzeigen.loc[stellenanzeigen.Datum == ads_per_date.idxmax()]"
   ]
  },
  {
   "cell_type": "markdown",
   "metadata": {
    "slideshow": {
     "slide_type": "subslide"
    },
    "tags": []
   },
   "source": [
    "### Wie viele Stellenanzeigen sind pro Jahr erschienen?"
   ]
  },
  {
   "cell_type": "code",
   "execution_count": null,
   "metadata": {
    "slideshow": {
     "slide_type": "fragment"
    },
    "tags": []
   },
   "outputs": [],
   "source": [
    "# Wie viele Stellenanzeigen sind pro Jahr erschienen?\n",
    "startyear = 2015\n",
    "endyear = 2022 # 2022 ist unvollständig, aber range-Objekt stoppt bei 2021\n",
    "\n",
    "diagramm = {}\n",
    "\n",
    "for year in range(startyear, endyear):\n",
    "    anzahl = sum(ads_per_date[ads_per_date.index.year == year])\n",
    "    diagramm[year] = anzahl\n",
    "\n",
    "# Ausgabe als Diagramm\n",
    "fig = plt.figure()\n",
    "fig.set_figheight(12)\n",
    "fig.set_figwidth(24)\n",
    "\n",
    "plt.bar(diagramm.keys(), diagramm.values())\n",
    "plt.title('Stellenanzeigen pro Jahr', fontsize=28)\n",
    "plt.xlabel('Jahr', fontsize=20)\n",
    "plt.ylabel('Stellenanzeigen', fontsize=20)\n",
    "plt.style.use('ggplot')\n",
    "plt.show()    "
   ]
  },
  {
   "cell_type": "markdown",
   "metadata": {
    "slideshow": {
     "slide_type": "subslide"
    },
    "tags": []
   },
   "source": [
    "### Wie viele Stellenanzeigen sind pro Datum erschienen?"
   ]
  },
  {
   "cell_type": "code",
   "execution_count": null,
   "metadata": {
    "slideshow": {
     "slide_type": "subslide"
    },
    "tags": []
   },
   "outputs": [],
   "source": [
    "# Wie viele Stellenanzeigen sind pro Datum erschienen?\n",
    "# Heatmap aller Stellenausschreibungen nach Datum\n",
    "import calmap\n",
    "import matplotlib.pyplot as plt\n",
    "\n",
    "c = calmap.calendarplot(ads_per_date, monthticks=3, daylabels='MDMDFSS',\n",
    "                    cmap='YlOrBr',\n",
    "                    fillcolor='lightgrey', linewidth=0,\n",
    "                    fig_kws=dict(figsize=(40, 20)),\n",
    "                    yearlabel_kws={'color':'gray', 'fontsize':48})"
   ]
  },
  {
   "cell_type": "markdown",
   "metadata": {
    "slideshow": {
     "slide_type": "slide"
    },
    "tags": []
   },
   "source": [
    "## AUSWERTUNG: D-A-CH-BEREICH"
   ]
  },
  {
   "cell_type": "markdown",
   "metadata": {
    "slideshow": {
     "slide_type": "slide"
    },
    "tags": []
   },
   "source": [
    "### Welche Stellenanzeigen sind für Standorte D-A-CH-Bereich erschienen?"
   ]
  },
  {
   "cell_type": "code",
   "execution_count": null,
   "metadata": {
    "slideshow": {
     "slide_type": "subslide"
    },
    "tags": []
   },
   "outputs": [],
   "source": [
    "# ermittelt Stellenanzeigen im DACH-Bereich\n",
    "# Filter für Stellenanzeigen im DACH-Bereich. Die Liste \"staedte\" wurde manuell ermittelt.\n",
    "# (besser wäre: Suche mit Regex-Mustern)\n",
    "\n",
    "staedte = ['Aachen','Aalen','Ansbach','Babelsberg','Basel','Bayreuth','Berlin','Bern','Bielefeld','Bochum','Bonn',\\\n",
    "           'Braunschweig','Bremen','Bremerhaven','Chemnitz','Chur','Cottbus','Dresden','Düsseldorf','Erfurt','Erlangen',\\\n",
    "           'Essen','Flensburg','Frankfurt','Freiberg','Freiburg','Friedrichshafen','Gießen','Graz','Greifswald','Göttingen',\\\n",
    "           'Hagen','Halle','Halle-Wittenberg','Hamburg','Hannover','Heidelberg','Hildesheim','Innsbruck','Jena','Karlsruhe',\\\n",
    "           'Kassel','Kiel','Klagenfurt','Konstanz','Krems','Köln','Leipzig','Linz','Ludwigsburg','Luzern','Lüneburg',\\\n",
    "           'Magdeburg-Stendal','Mainz','Mannheim','Marburg','München','Münster','Oldenburg','Osnabrück','Paderborn','Passau',\\\n",
    "           'Pforzheim','Potsdam','Regensburg','Rostock','Saarbrücken','Salzburg','Siegen','Soest','Stuttgart','Trier',\\\n",
    "           'Tübingen','Vechta','Weimar','Wien','Witten/Herdecke','Wuppertal','Würzburg','Zürich']\n"
   ]
  },
  {
   "cell_type": "code",
   "execution_count": null,
   "metadata": {
    "slideshow": {
     "slide_type": "skip"
    },
    "tags": []
   },
   "outputs": [],
   "source": [
    "# Funktion prüft, ob ein Wert aus staedte in Zeile vorhanden ist\n",
    "# (Ist > 1 Wert vorhanden, wird nur der erste zurückgegeben!)\n",
    "def common(staedte, row): \n",
    "    result = [stadt for stadt in staedte if re.search(stadt, row) is not None]\n",
    "    if result == []:\n",
    "        return None\n",
    "    else:\n",
    "        return result[0]"
   ]
  },
  {
   "cell_type": "code",
   "execution_count": null,
   "metadata": {
    "slideshow": {
     "slide_type": "skip"
    },
    "tags": []
   },
   "outputs": [],
   "source": [
    "#  Fügt die Spalte \"Standort\" hinzu\n",
    "stellenanzeigen['Standort'] = stellenanzeigen['Meldung'].apply(lambda row: common(staedte, row))"
   ]
  },
  {
   "cell_type": "code",
   "execution_count": null,
   "metadata": {
    "scrolled": true,
    "slideshow": {
     "slide_type": "subslide"
    },
    "tags": []
   },
   "outputs": [],
   "source": [
    "# filtert Standorte aus D-A-CH-Bereich\n",
    "dach = stellenanzeigen.loc[stellenanzeigen.Standort.notna(), :].copy()\n",
    "dach.reset_index(drop=True, inplace=True)"
   ]
  },
  {
   "cell_type": "markdown",
   "metadata": {
    "slideshow": {
     "slide_type": "subslide"
    },
    "tags": []
   },
   "source": [
    "### Korrekturen"
   ]
  },
  {
   "cell_type": "code",
   "execution_count": null,
   "metadata": {
    "slideshow": {
     "slide_type": "fragment"
    },
    "tags": []
   },
   "outputs": [],
   "source": [
    "# Korrekturen\n",
    "\n",
    "# Halle = Halle-Wittenberg\n",
    "dach.loc[dach.Standort.str.contains('Halle'), 'Standort'] = 'Halle-Wittenberg'\n",
    "\n",
    "# Frankfurt/Oder ist nicht Frankfurt/Main\n",
    "dach.loc[dach.Meldung.str.contains('Frankfurt.*Oder'), 'Standort'] = 'Frankfurt (Oder)'"
   ]
  },
  {
   "cell_type": "code",
   "execution_count": null,
   "metadata": {
    "slideshow": {
     "slide_type": "subslide"
    },
    "tags": []
   },
   "outputs": [],
   "source": [
    "print(f'\\nEs sind {len(dach)} Stellenanzeigen für den D-A-CH-Bereich erschienen.\\n')"
   ]
  },
  {
   "cell_type": "markdown",
   "metadata": {
    "slideshow": {
     "slide_type": "slide"
    },
    "tags": []
   },
   "source": [
    "### Liste (DataFrame) der D-A-CH-Stellenanzeigen"
   ]
  },
  {
   "cell_type": "code",
   "execution_count": null,
   "metadata": {
    "scrolled": true,
    "slideshow": {
     "slide_type": "slide"
    },
    "tags": []
   },
   "outputs": [],
   "source": [
    "dach"
   ]
  },
  {
   "cell_type": "markdown",
   "metadata": {
    "slideshow": {
     "slide_type": "slide"
    },
    "tags": []
   },
   "source": [
    "### Welche Standorte (D-A-CH) haben die meisten Stellenanzeigen veröffentlicht?"
   ]
  },
  {
   "cell_type": "code",
   "execution_count": null,
   "metadata": {
    "scrolled": true,
    "slideshow": {
     "slide_type": "subslide"
    },
    "tags": []
   },
   "outputs": [],
   "source": [
    "# Welche Standorte haben die meisten Stellenanzeigen veröffentlicht?\n",
    "standorte_chart = dach.Standort.value_counts()\n",
    "standorte_chart"
   ]
  },
  {
   "cell_type": "markdown",
   "metadata": {
    "slideshow": {
     "slide_type": "subslide"
    }
   },
   "source": [
    "### Ausgabe als Pie Chart"
   ]
  },
  {
   "cell_type": "code",
   "execution_count": null,
   "metadata": {
    "slideshow": {
     "slide_type": "subslide"
    }
   },
   "outputs": [],
   "source": [
    "# Ausgabe: Pie Chart (TOP 30)\n",
    "labels = standorte_chart.index[:29] # nur die ersten 30\n",
    "sizes = standorte_chart[:29]\n",
    "\n",
    "fig = plt.figure()\n",
    "fig.set_figheight(12)\n",
    "fig.set_figwidth(24)\n",
    "\n",
    "plt.pie(sizes, labels=labels, autopct='%1.1f%%',\n",
    "        shadow=True, radius=4, textprops={'fontsize': 30})\n",
    "plt.show()"
   ]
  },
  {
   "cell_type": "markdown",
   "metadata": {
    "slideshow": {
     "slide_type": "slide"
    }
   },
   "source": [
    "# AUSWERTUNG: STELLEN"
   ]
  },
  {
   "cell_type": "markdown",
   "metadata": {},
   "source": [
    "### Definition Klasse \"Stellen\""
   ]
  },
  {
   "cell_type": "code",
   "execution_count": null,
   "metadata": {},
   "outputs": [],
   "source": [
    "class Stellen:\n",
    "    \n",
    "    '''\n",
    "    Die Klasse wertet Stellenanzeigen nach Jobtyp aus\n",
    "    Suchbegriffe müssen im searchdict stehen\n",
    "    '''\n",
    "    \n",
    "    searchdict = {\n",
    "    'Juniorprofessur':'Juniorprofess.*|W1',\n",
    "    'Professur':'[pP]rofess.*',\n",
    "    'Mittelbau': '[aA]kad.* [Mit.*|Rat.*]|[Ww]iss.* Mit.*|[pP]ost-?[Dd]o[ck]|Promotion.*|Doktorand|lfba|Lehrkr[aä]ft|PhD'\n",
    "    }\n",
    "    \n",
    "    def __init__(self, suchbegriff, df=dach):\n",
    "        self.suchbegriff = suchbegriff\n",
    "        self.pattern = self.searchdict[self.suchbegriff]\n",
    "        self.stellen = df.loc[df.Meldung.str.contains(self.pattern)]\n",
    "        self.anzahl  = len(self.stellen)\n",
    "        \n",
    "    \n",
    "    def __repr__(self):\n",
    "        return self.suchbegriff\n",
    "    \n",
    "    def anzahl_pro_jahr(self):\n",
    "        print()\n",
    "        diagramm = {}\n",
    "        for year in range(2015, 2022):\n",
    "            anzahl = len(self.stellen.loc[self.stellen['Datum'].dt.year == year])\n",
    "            diagramm[year] = anzahl\n",
    "\n",
    "            print(f'{year}: {anzahl} Stellenanzeigen für {self.suchbegriff}')\n",
    "\n",
    "        print()\n",
    "\n",
    "        # Ausgabe als Diagramm\n",
    "        fig = plt.figure()\n",
    "        fig.set_figheight(12)\n",
    "        fig.set_figwidth(24)\n",
    "        \n",
    "        plt.bar(diagramm.keys(), diagramm.values())\n",
    "        plt.title(f'Stellenanzeigen {self.suchbegriff}', fontsize=18)\n",
    "        plt.xlabel('Jahr')\n",
    "        plt.ylabel(f'{self.suchbegriff}')\n",
    "        plt.style.use('ggplot')\n",
    "        plt.show()"
   ]
  },
  {
   "cell_type": "markdown",
   "metadata": {},
   "source": [
    "### Welche Stellenanzeigen sind für den **Mittelbau** erschienen?"
   ]
  },
  {
   "cell_type": "code",
   "execution_count": null,
   "metadata": {
    "scrolled": true,
    "slideshow": {
     "slide_type": "fragment"
    },
    "tags": []
   },
   "outputs": [],
   "source": [
    "# Filter: Stellenanzeigen für den Mittelbau\n",
    "# Regex:  [aA]kad.* [Mit.*|Rat.*]|[Ww]iss.* Mit.*|[pP]ost-?[Dd]o[ck]|Promotion.*|Doktorand|lfba|Lehrkr[aä]ft\n",
    "mittelbau = Stellen('Mittelbau')\n",
    "mittelbau.stellen"
   ]
  },
  {
   "cell_type": "markdown",
   "metadata": {},
   "source": [
    "### Wie viele Stellenanzeigen (Mittelbau) sind erschienen?"
   ]
  },
  {
   "cell_type": "code",
   "execution_count": null,
   "metadata": {
    "slideshow": {
     "slide_type": "subslide"
    }
   },
   "outputs": [],
   "source": [
    "print(f' \\\n",
    "    \\nVon {len(dach)} Stellenanzeigen im D-A-CH-Bereich waren {mittelbau.anzahl} für den Mittelbau ausgeschrieben.\\n\\\n",
    "Das sind {mittelbau.anzahl/len(dach)*100:.2f} Prozent\\n')"
   ]
  },
  {
   "cell_type": "markdown",
   "metadata": {},
   "source": [
    "### Verteilung der Stellenanzeigen (Mittelbau) 2015–2021"
   ]
  },
  {
   "cell_type": "code",
   "execution_count": null,
   "metadata": {},
   "outputs": [],
   "source": [
    "mittelbau.anzahl_pro_jahr()"
   ]
  },
  {
   "cell_type": "markdown",
   "metadata": {
    "slideshow": {
     "slide_type": "slide"
    }
   },
   "source": [
    "### Welche Stellenanzeigen für **Professuren** sind erschienen?"
   ]
  },
  {
   "cell_type": "code",
   "execution_count": null,
   "metadata": {
    "scrolled": true,
    "slideshow": {
     "slide_type": "subslide"
    },
    "tags": []
   },
   "outputs": [],
   "source": [
    "# Filter ermittelt Stellenanzeigen für Professuren (inkl. Juniorprofessur)\n",
    "professuren = Stellen('Professur')\n",
    "professuren.stellen"
   ]
  },
  {
   "cell_type": "markdown",
   "metadata": {},
   "source": [
    "### Wie viele Stellenanzeigen (Professur) sind erschienen?"
   ]
  },
  {
   "cell_type": "code",
   "execution_count": null,
   "metadata": {
    "slideshow": {
     "slide_type": "subslide"
    }
   },
   "outputs": [],
   "source": [
    "print(f'\\nVon {len(dach)} Stellenanzeigen im D-A-CH-Bereich waren {professuren.anzahl} als Professuren ausgeschrieben.\\n\\\n",
    "Das sind {professuren.anzahl/len(dach)*100:.2f} Prozent\\n')"
   ]
  },
  {
   "cell_type": "markdown",
   "metadata": {},
   "source": [
    "### Verteilung der Stellenanzeigen (Professur) nach Jahren"
   ]
  },
  {
   "cell_type": "code",
   "execution_count": null,
   "metadata": {},
   "outputs": [],
   "source": [
    "professuren.anzahl_pro_jahr()"
   ]
  },
  {
   "cell_type": "markdown",
   "metadata": {},
   "source": [
    "### Welche Stellenanzeigen sind für den **Juniorprofessuren** erschienen? "
   ]
  },
  {
   "cell_type": "code",
   "execution_count": null,
   "metadata": {
    "scrolled": true,
    "tags": []
   },
   "outputs": [],
   "source": [
    "# Filter ermittelt Stellenanzeigen für Juniorprofessuren\n",
    "# pattern = 'Juniorprofess.*|W1'\n",
    "junprof = Stellen('Juniorprofessur')\n",
    "junprof.stellen"
   ]
  },
  {
   "cell_type": "markdown",
   "metadata": {},
   "source": [
    "### Wie viele Stellenanzeigen (Juniorprofessur) sind erschienen?"
   ]
  },
  {
   "cell_type": "code",
   "execution_count": null,
   "metadata": {},
   "outputs": [],
   "source": [
    "anzahl1 = professuren.anzahl\n",
    "anzahl2 = junprof.anzahl\n",
    "print(f'\\nVon {anzahl1} Stellenanzeigen für Professuren im D-A-CH-Bereich waren {anzahl2} als Juniorprofessuren/W1 ausgeschrieben.\\n\\\n",
    "Das sind {anzahl2/anzahl1*100:.2f} Prozent\\n')"
   ]
  },
  {
   "cell_type": "markdown",
   "metadata": {},
   "source": [
    "### Verteilung der Stellenanzeigen (Juniorprofessur) nach Jahren"
   ]
  },
  {
   "cell_type": "code",
   "execution_count": null,
   "metadata": {},
   "outputs": [],
   "source": [
    "# Stellenanzeigen nach Jahren\n",
    "junprof.anzahl_pro_jahr()"
   ]
  },
  {
   "cell_type": "markdown",
   "metadata": {},
   "source": [
    "## Inhalte von Stellenanzeigen  \n",
    "Die Funktion \"Auswertung\" durchsucht die D-A-CH-Stellenanzeigen nach beliebig wählbaren Schlagworten  \n",
    "und gibt die TOP-20-Standorte zurück"
   ]
  },
  {
   "cell_type": "code",
   "execution_count": null,
   "metadata": {},
   "outputs": [],
   "source": [
    "# Funktion zur einfachen Auswertung von D-A-CH-Stellenanzeigen\n",
    "def auswertung(pattern, df = dach):\n",
    "    result = df.loc[df.Meldung.str.contains(pattern[1])]\n",
    "    print(f'Es gibt {len(result)} Stellenanzeigen mit dem Stichwort \\'{pattern[0]}\\'\\n')\n",
    "    # TOP 20 der Standorte\n",
    "    print(f\"Die wichtigsten Standorte sind:\\n\\n{result.Standort.value_counts()[:20]}\")"
   ]
  },
  {
   "cell_type": "markdown",
   "metadata": {},
   "source": [
    "### Auswertung: Kunst / künstlerisch"
   ]
  },
  {
   "cell_type": "code",
   "execution_count": null,
   "metadata": {},
   "outputs": [],
   "source": [
    "pattern = ('Kunst/künstlerisch', '[Kk][uü]nst.*')\n",
    "auswertung(pattern)"
   ]
  },
  {
   "cell_type": "markdown",
   "metadata": {},
   "source": [
    "### Auswertung: Digital"
   ]
  },
  {
   "cell_type": "code",
   "execution_count": null,
   "metadata": {},
   "outputs": [],
   "source": [
    "pattern = ('digital', '[Dd]igital.*')\n",
    "auswertung(pattern)"
   ]
  },
  {
   "cell_type": "markdown",
   "metadata": {},
   "source": [
    "### Auswertung: Film"
   ]
  },
  {
   "cell_type": "code",
   "execution_count": null,
   "metadata": {},
   "outputs": [],
   "source": [
    "pattern = ('Film', '[f|F]ilm.*')\n",
    "auswertung(pattern)"
   ]
  },
  {
   "cell_type": "markdown",
   "metadata": {},
   "source": [
    "### Auswertung: Fernsehen"
   ]
  },
  {
   "cell_type": "code",
   "execution_count": null,
   "metadata": {},
   "outputs": [],
   "source": [
    "pattern = ('Fernsehen', '[f|F]ernseh.*')\n",
    "auswertung(pattern)"
   ]
  },
  {
   "cell_type": "markdown",
   "metadata": {},
   "source": [
    "### Auswertung: Games"
   ]
  },
  {
   "cell_type": "code",
   "execution_count": null,
   "metadata": {},
   "outputs": [],
   "source": [
    "pattern = ('Games', 'Game.*')\n",
    "auswertung(pattern)"
   ]
  },
  {
   "cell_type": "code",
   "execution_count": null,
   "metadata": {},
   "outputs": [],
   "source": [
    "pattern = ('Fotografie', '[F|Ph]otogra.*')\n",
    "auswertung(pattern)"
   ]
  },
  {
   "cell_type": "markdown",
   "metadata": {},
   "source": [
    "### Vergleich von Stichworten"
   ]
  },
  {
   "cell_type": "code",
   "execution_count": null,
   "metadata": {},
   "outputs": [],
   "source": [
    "# Funktion zur einfachen Auswertung von D-A-CH-Stellenanzeigen\n",
    "result = {}\n",
    "\n",
    "pattern_list = [\n",
    "    ('Fernsehen', '[f|F]ernseh.*'),\n",
    "    ('Games', 'Game.*'),\n",
    "    ('Film', '[f|F]ilm.*'),\n",
    "    ('digital', '[Dd]igital.*'),\n",
    "    ('Kunst', '[Kk][uü]nst.*'),\n",
    "    ('Fotografie', '[F|Ph]otogra.*')\n",
    "]\n",
    "\n",
    "for pattern in pattern_list:\n",
    "    anzahl = len(dach.loc[dach.Meldung.str.contains(pattern[1])])\n",
    "    result[pattern[0]] = anzahl\n",
    "\n",
    "result = dict(sorted(result.items(), key = lambda x: x[1], reverse=True))  # sortiert Ergebnis nach Werten \n",
    "\n",
    "fig = plt.figure()\n",
    "fig.set_figheight(12)\n",
    "fig.set_figwidth(24)\n",
    "        \n",
    "plt.bar(result.keys(), result.values())\n",
    "plt.title('Stichworte in Stellenanzeigen', fontsize=18)\n",
    "plt.xlabel('Stichwort', fontsize=18)\n",
    "plt.ylabel('Stellenanzeigen', fontsize=18)\n",
    "plt.style.use('ggplot')\n",
    "plt.show()"
   ]
  },
  {
   "cell_type": "markdown",
   "metadata": {},
   "source": [
    "# AUSWERTUNG (II): Volltexte der STELLENANZEIGEN im Anhang"
   ]
  },
  {
   "cell_type": "code",
   "execution_count": null,
   "metadata": {},
   "outputs": [],
   "source": [
    "df = pandas.read_csv('out/stellenanzeigen_volltext.csv')"
   ]
  },
  {
   "cell_type": "code",
   "execution_count": null,
   "metadata": {},
   "outputs": [],
   "source": [
    "df.head(2)"
   ]
  },
  {
   "cell_type": "markdown",
   "metadata": {},
   "source": [
    "### Suche im Volltext nach 'befristet'"
   ]
  },
  {
   "cell_type": "code",
   "execution_count": null,
   "metadata": {
    "tags": []
   },
   "outputs": [],
   "source": [
    "# Suche im Volltext nach 'befristet'\n",
    "anzahl = len(df.loc[df.Stellenanzeige.str.contains(r'\\bbefristet', regex=True), :])\n",
    "print(f'Von allen {len(df)} Stellenanzeigen (im Anhang) enthalten {anzahl} den String \\'befristet\\'.\\nDas sind {anzahl/len(df)*100:.2f} Prozent')"
   ]
  },
  {
   "cell_type": "markdown",
   "metadata": {},
   "source": [
    "### Suche im Volltext nach 'unbefristet'"
   ]
  },
  {
   "cell_type": "code",
   "execution_count": null,
   "metadata": {},
   "outputs": [],
   "source": [
    "# Suche im Volltext nach 'unbefristet'\n",
    "anzahl = len(df.loc[df.Stellenanzeige.str.contains(r'unbefristet'), :])\n",
    "print(f'Von allen {len(df)} Stellenanzeigen (im Anhang) enthalten {anzahl} den String \\'unbefristet\\'.\\nDas sind {anzahl/len(df)*100:.2f} Prozent')"
   ]
  },
  {
   "cell_type": "markdown",
   "metadata": {},
   "source": [
    "### Suche im Volltext nach 'Teilzeit'"
   ]
  },
  {
   "cell_type": "code",
   "execution_count": null,
   "metadata": {
    "tags": []
   },
   "outputs": [],
   "source": [
    "# Suche im Volltext nach 'Teilzeit'\n",
    "anzahl = len(df.loc[df.Stellenanzeige.str.contains(r'Teilzeit'), :])\n",
    "print(f'Von allen {len(df)} Stellenanzeigen (im Anhang) enthalten {anzahl} den String \\'Teilzeit\\'.\\nDas sind {anzahl/len(df)*100:.2f} Prozent')"
   ]
  },
  {
   "cell_type": "markdown",
   "metadata": {},
   "source": [
    "### Suche im Volltext nach '%'"
   ]
  },
  {
   "cell_type": "code",
   "execution_count": null,
   "metadata": {},
   "outputs": [],
   "source": [
    "# Suche im Volltext nach 'prozentangabe (z.B. 50%, 65%, aber auch 100%)\n",
    "anzahl = len(df.loc[df.Stellenanzeige.str.contains(r'\\d\\d\\d?\\s?%'), :])\n",
    "print(f'Von allen {len(df)} Stellenanzeigen (im Anhang) enthalten {anzahl} eine Prozentangabe.\\nDas sind {anzahl/len(df)*100:.2f} Prozent')"
   ]
  },
  {
   "cell_type": "markdown",
   "metadata": {},
   "source": [
    "# Analyse der Volltexte nach Themen"
   ]
  },
  {
   "cell_type": "code",
   "execution_count": null,
   "metadata": {},
   "outputs": [],
   "source": [
    "# analysiert ALLE Stellenanzeigen im Volltext (nicht nur D-A-CH), aber erst seit 10/2015"
   ]
  },
  {
   "cell_type": "code",
   "execution_count": null,
   "metadata": {},
   "outputs": [],
   "source": [
    "def analyse(pattern):\n",
    "    return df.Stellenanzeige.loc[df.Stellenanzeige.str.contains(pattern)].__len__()"
   ]
  },
  {
   "cell_type": "code",
   "execution_count": null,
   "metadata": {},
   "outputs": [],
   "source": [
    "pattern_list = [\n",
    "    'Cinema',\n",
    "    'Film',\n",
    "    'Kunst',\n",
    "    'Art\\s',\n",
    "    'Comic',\n",
    "    'Television',\n",
    "    'Games',\n",
    "    'Fernsehen'\n",
    "]\n",
    "\n",
    "for pattern in pattern_list:\n",
    "    print(pattern, analyse(pattern))"
   ]
  },
  {
   "cell_type": "code",
   "execution_count": null,
   "metadata": {},
   "outputs": [],
   "source": []
  }
 ],
 "metadata": {
  "celltoolbar": "Slideshow",
  "kernelspec": {
   "display_name": "Python 3 (ipykernel)",
   "language": "python",
   "name": "python3"
  },
  "language_info": {
   "codemirror_mode": {
    "name": "ipython",
    "version": 3
   },
   "file_extension": ".py",
   "mimetype": "text/x-python",
   "name": "python",
   "nbconvert_exporter": "python",
   "pygments_lexer": "ipython3",
   "version": "3.10.6"
  }
 },
 "nbformat": 4,
 "nbformat_minor": 4
}
